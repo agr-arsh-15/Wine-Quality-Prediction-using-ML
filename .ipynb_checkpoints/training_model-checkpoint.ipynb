{
 "cells": [
  {
   "cell_type": "markdown",
   "id": "913fe890-4921-43fb-941a-585615f7ef82",
   "metadata": {},
   "source": [
    "# ***Wine Quality Prediction using ML***"
   ]
  },
  {
   "cell_type": "markdown",
   "id": "9799e906-3171-42db-a6b6-e8b0e2a0d558",
   "metadata": {},
   "source": [
    "https://archive.ics.uci.edu/dataset/186/wine+quality"
   ]
  },
  {
   "cell_type": "markdown",
   "id": "8ad00107-bb7e-4f6c-a961-8fbb86014b21",
   "metadata": {},
   "source": [
    "***"
   ]
  },
  {
   "cell_type": "markdown",
   "id": "fd860ff5-4e20-4d13-9140-f28dd78be034",
   "metadata": {},
   "source": [
    "- Dataset Characteristics: multivariate\n",
    "- Subject Area: Business \n",
    "- Total instances: 4898\n",
    "- Features: 11"
   ]
  },
  {
   "cell_type": "markdown",
   "id": "fac698ff-cc69-4efb-89d2-b2ec86177a09",
   "metadata": {},
   "source": [
    "**Input variables (based on physicochemical tests):**\n",
    "1. fixed acidity\n",
    "2. volatile acidity\n",
    "3. citric acid\n",
    "4. residual sugar\n",
    "5. chlorides\n",
    "6. free sulfur dioxide\n",
    "7. total sulphur dioxide\n",
    "8. density\n",
    "9. pH\n",
    "10. sulphates\n",
    "11. alcohol\n",
    "\n",
    "**Output variable (based on sensory data):**\n",
    "\n",
    "12. quality (Score between 0 and 10)   "
   ]
  },
  {
   "cell_type": "markdown",
   "id": "834e4e09-81fc-46b0-89d0-80b1b67c349b",
   "metadata": {},
   "source": [
    "### ***Problem Statement***\n",
    "Wine quality is a key factor influencing consumer satisfaction and market value. However, assessing wine quality typically requires expert tasters, which is both time-consuming and expensive.\n",
    "\n",
    "This project aims to build a machine learning model that predicts the quality of wine based on its physicochemical properties such as acidity, pH, alcohol content, and sugar levels. Using classification algorithms, the goal is to accurately classify wines on a quality scale (e.g., 0 to 10).\n",
    "\n",
    "The model’s predictions can help winemakers optimize production processes, ensure quality consistency, and make data-driven decisions without solely relying on manual testing. "
   ]
  },
  {
   "cell_type": "code",
   "execution_count": null,
   "id": "5c4c9fc5-8c4d-46f7-8c2e-b3d89b1236f4",
   "metadata": {},
   "outputs": [],
   "source": [
    "# Importing necessary libraries\n",
    "import pandas as pd\n",
    "import time\n",
    "import numpy as np\n",
    "import seaborn as sns\n",
    "import matplotlib.pyplot as plt\n",
    "from scipy import stats\n",
    "from imblearn.over_sampling import SMOTE\n",
    "from collections import Counter\n",
    "from sklearn.preprocessing import StandardScaler, label_binarize\n",
    "from sklearn.model_selection import train_test_split, cross_val_score, GridSearchCV, RandomizedSearchCV\n",
    "from sklearn.ensemble import RandomForestClassifier, GradientBoostingClassifier\n",
    "from xgboost import XGBClassifier\n",
    "from sklearn.svm import SVC\n",
    "from sklearn.tree import DecisionTreeClassifier\n",
    "from sklearn.metrics import accuracy_score, classification_report, confusion_matrix, roc_auc_score, RocCurveDisplay,roc_curve, precision_score, recall_score, f1_score"
   ]
  },
  {
   "cell_type": "code",
   "execution_count": null,
   "id": "62c0eeec-3c41-4af7-9e45-14bc605a4270",
   "metadata": {},
   "outputs": [],
   "source": [
    "# Integrating the Dataset to the notebook\n",
    "file_path= \"Dataset.csv\"\n",
    "data = pd.read_csv(file_path)"
   ]
  },
  {
   "cell_type": "code",
   "execution_count": null,
   "id": "a98cdb68-e7f3-4d2d-979e-5d66cb2ae2f9",
   "metadata": {},
   "outputs": [],
   "source": [
    "# Removing Duplicates\n",
    "data_cleaned = data.drop_duplicates()"
   ]
  },
  {
   "cell_type": "code",
   "execution_count": null,
   "id": "ff820ba0-8108-4784-a805-74a06f309c98",
   "metadata": {},
   "outputs": [],
   "source": [
    "# Separate features and target\n",
    "X = data_cleaned.drop(columns=['quality'])\n",
    "y = data_cleaned['quality']"
   ]
  },
  {
   "cell_type": "code",
   "execution_count": null,
   "id": "f84caf17-d7ce-4048-b0e6-9c26fb1df9a6",
   "metadata": {},
   "outputs": [],
   "source": [
    "# Splitting the data into Testing and Training\n",
    "X_train, X_test, y_train, y_test = train_test_split(X,y,test_size=0.2, random_state=42, stratify=y)"
   ]
  },
  {
   "cell_type": "markdown",
   "id": "d3977718-85c0-4a41-b42e-f693c41213c8",
   "metadata": {},
   "source": [
    "### ***Data Preprocessing***\n",
    "1. Checking for null values\n",
    "2. Standardising the values\n",
    "3. Checking for outliers and removing them using Z-score\n",
    "4. Checking for class imbalance and balance them using SMOTE analysis"
   ]
  },
  {
   "cell_type": "code",
   "execution_count": null,
   "id": "db8f58e4-c5e0-451e-927e-eafcadda1270",
   "metadata": {},
   "outputs": [],
   "source": [
    "# Check for missing values in each column\n",
    "print(data_cleaned.isnull().sum())"
   ]
  },
  {
   "cell_type": "code",
   "execution_count": null,
   "id": "2365e72a-d4ed-4223-845c-092fd5d02970",
   "metadata": {},
   "outputs": [],
   "source": [
    "# Scaling the Features\n",
    "scaler = StandardScaler()\n",
    "X_train_scaled = scaler.fit_transform(X_train)\n",
    "X_test_scaled = scaler.transform(X_test)\n",
    "\n",
    "# Checking for Standardized values\n",
    "print(\"Mean (After Scaling):\", X_train_scaled.mean(axis=0))\n",
    "print(\"Std (After Scaling):\", X_train_scaled.std(axis=0))"
   ]
  },
  {
   "cell_type": "code",
   "execution_count": null,
   "id": "607bf0a0-d4a7-4f37-9d00-b92951af0d4e",
   "metadata": {},
   "outputs": [],
   "source": [
    "# Converting scaled data to DataFrame\n",
    "X_train_scaled_df = pd.DataFrame(X_train_scaled, columns=X_train.columns)\n",
    "\n",
    "# Checking for outliers\n",
    "plt.figure(figsize=(12, 8))\n",
    "sns.boxplot(data=X_train_scaled_df)\n",
    "plt.xticks(rotation=90)\n",
    "plt.title('Box Plot to Detect Outliers')\n",
    "plt.show()"
   ]
  },
  {
   "cell_type": "code",
   "execution_count": null,
   "id": "a9a32042-71f0-4f22-b4bd-2af3919ffa59",
   "metadata": {},
   "outputs": [],
   "source": [
    "# Removing outliers using Z-Score\n",
    "z_scores = np.abs(stats.zscore(X_train_scaled_df))\n",
    "mask = ((z_scores < 3).all(axis=1))\n",
    "X_train_filtered = X_train_scaled_df[mask]\n",
    "y_train_filtered = y_train[mask]\n",
    "\n",
    "# Converting filtered data to Data Frame\n",
    "X_train_filtered_df = pd.DataFrame(X_train_filtered, columns=X_train_scaled_df.columns)\n",
    "\n",
    "# Plot after removing outliers\n",
    "plt.figure(figsize=(12, 6))\n",
    "sns.boxplot(data=X_train_filtered_df)\n",
    "plt.title('Boxplot of Scaled Features')\n",
    "plt.xticks(rotation=90)\n",
    "plt.show()\n",
    "\n",
    "# Checking for Standardized values after removing outliers\n",
    "print(\"Mean (After Scaling):\", X_train_filtered_df.mean(axis=0))\n",
    "print(\"Std (After Scaling):\", X_train_filtered_df.std(axis=0))"
   ]
  },
  {
   "cell_type": "code",
   "execution_count": null,
   "id": "6c3e4ed0-f05b-4672-831c-97c093d0af1c",
   "metadata": {},
   "outputs": [],
   "source": [
    "# Initial Class Distribution\n",
    "print(\"Class Counts Before SMOTE:\")\n",
    "print(y_train_filtered.value_counts())\n",
    "\n",
    "# Plotting the Class Distribution\n",
    "y_train_filtered.value_counts().plot(kind='bar', color=['blue','orange'])\n",
    "plt.title(\"Class Distribution\")\n",
    "plt.xlabel(\"Class\")\n",
    "plt.ylabel(\"Count\")\n",
    "plt.show()"
   ]
  },
  {
   "cell_type": "code",
   "execution_count": null,
   "id": "9a87ca42-3504-4010-9783-da574f0c19fd",
   "metadata": {
    "scrolled": true
   },
   "outputs": [],
   "source": [
    "# Applying SMOTE Analysis to balance the Dataset\n",
    "smote = SMOTE(sampling_strategy='auto', random_state=42, k_neighbors=3)\n",
    "X_train_resampled, y_train_resampled = smote.fit_resample(X_train_filtered_df, y_train_filtered)"
   ]
  },
  {
   "cell_type": "code",
   "execution_count": null,
   "id": "f10f59ab-5a9c-4750-a841-c021fc4ac7f7",
   "metadata": {},
   "outputs": [],
   "source": [
    "# Finalising the Class Distribution\n",
    "print(\"Class Counts After SMOTE:\")\n",
    "print(y_train_resampled.value_counts())\n",
    "\n",
    "# Plotting the Class Distribution\n",
    "y_train_resampled.value_counts().plot(kind='bar', color=['blue','orange'])\n",
    "plt.title(\"Class Distribution\")\n",
    "plt.xlabel(\"Class\")\n",
    "plt.ylabel(\"Count\")\n",
    "plt.show()"
   ]
  },
  {
   "cell_type": "markdown",
   "id": "6bca1ca0-c493-46da-ad99-7641390f636a",
   "metadata": {},
   "source": [
    "### ***Model Evaluation***\n",
    "1. Applying **Random Forest** on pre-processed data\n",
    "2. Evaluating through accuracy, F-1 score, precision, recall\n",
    "3. Constructing Confusion Matrix\n",
    "4. Plotting ROC Curve\n",
    "5. Cross-Validation"
   ]
  },
  {
   "cell_type": "code",
   "execution_count": null,
   "id": "d9c768bd-1624-4af7-b3fa-5f0578795e87",
   "metadata": {},
   "outputs": [],
   "source": [
    "# Re-Splitting the Data after SMOTE\n",
    "X_train, X_test, y_train, y_test = train_test_split(X_train_resampled, y_train_resampled, test_size=0.2, random_state=42)"
   ]
  },
  {
   "cell_type": "code",
   "execution_count": null,
   "id": "56e97937-05fd-45f0-a011-5905719a385c",
   "metadata": {},
   "outputs": [],
   "source": [
    "# Using Random Forest Classifier to predict the Wine quality\n",
    "rf_model = RandomForestClassifier(random_state=42, max_depth=19, n_estimators=250, min_samples_split=2)\n",
    "rf_model.fit(X_train, y_train)\n",
    "\n",
    "y_pred_rf = rf_model.predict(X_test)\n",
    "print(\"Accuracy:\", accuracy_score(y_test, y_pred_rf))\n",
    "print(classification_report(y_test, y_pred_rf))"
   ]
  },
  {
   "cell_type": "code",
   "execution_count": null,
   "id": "bb977006-4f89-49fb-9adf-7131eef48c19",
   "metadata": {},
   "outputs": [],
   "source": [
    "# Constructing the Confusion Matrix\n",
    "cm = confusion_matrix(y_test, y_pred_rf)\n",
    "print(\"Confusion Matrix:\\n\", cm)"
   ]
  },
  {
   "cell_type": "code",
   "execution_count": null,
   "id": "c7a0e33d-691b-452f-8d21-bc4f956e765b",
   "metadata": {},
   "outputs": [],
   "source": [
    "# Binarize the output labels for multi-class ROC\n",
    "y_test_bin = label_binarize(y_test, classes=rf_model.classes_)\n",
    "y_score = rf_model.predict_proba(X_test)\n",
    "\n",
    "# Plot ROC Curve for each class\n",
    "plt.figure(figsize=(10, 8))\n",
    "for i in range(len(rf_model.classes_)):\n",
    "    fpr, tpr, _ = roc_curve(y_test_bin[:, i], y_score[:, i])\n",
    "    plt.plot(fpr, tpr, label=f\"Class {rf_model.classes_[i]} (AUC = {roc_auc_score(y_test_bin[:, i], y_score[:, i]):.2f})\")\n",
    "\n",
    "plt.plot([0, 1], [0, 1], 'k--')\n",
    "plt.xlabel('False Positive Rate')\n",
    "plt.ylabel('True Positive Rate')\n",
    "plt.title('Multiclass ROC Curve')\n",
    "plt.legend(loc=\"lower right\")\n",
    "plt.grid()\n",
    "plt.show()"
   ]
  },
  {
   "cell_type": "code",
   "execution_count": null,
   "id": "17e4135c-2c96-42d6-a505-65cf12176059",
   "metadata": {},
   "outputs": [],
   "source": [
    "# Perform 5-Fold Cross-Validation\n",
    "cv_scores = cross_val_score(rf_model, X_train_resampled, y_train_resampled, cv=5, scoring='accuracy')\n",
    "\n",
    "print(\"Cross-Validation Scores:\", cv_scores)\n",
    "print(\"Mean Accuracy:\", cv_scores.mean())\n",
    "print(\"Standard Deviation:\", cv_scores.std())"
   ]
  },
  {
   "cell_type": "markdown",
   "id": "72a39db3-32f3-47f5-a633-607860f4dc02",
   "metadata": {},
   "source": [
    "### ***Feature Engineering***"
   ]
  },
  {
   "cell_type": "code",
   "execution_count": null,
   "id": "2b2aaeaa-7ea4-4bac-a804-33a7982dcbb3",
   "metadata": {},
   "outputs": [],
   "source": [
    "# Getting feature importance\n",
    "feature_importance = rf_model.feature_importances_\n",
    "\n",
    "# Converting feature importance to DataFrame\n",
    "feature_importance_df = pd.DataFrame({'Feature': X_train.columns, 'Importance': feature_importance})\n",
    "feature_importance_df = feature_importance_df.sort_values(by='Importance', ascending=False)\n",
    "\n",
    "print(feature_importance_df)"
   ]
  },
  {
   "cell_type": "code",
   "execution_count": null,
   "id": "f0ec8886-386d-4baf-b6ef-90453f1a5c5f",
   "metadata": {},
   "outputs": [],
   "source": [
    "# Plotting feature importance\n",
    "plt.figure(figsize=(10, 6))\n",
    "sns.barplot(x='Importance', y='Feature', data=feature_importance_df)\n",
    "plt.title('Feature Importance from Random Forest')\n",
    "plt.xlabel('Importance Score')\n",
    "plt.ylabel('Features')\n",
    "plt.show()"
   ]
  },
  {
   "cell_type": "code",
   "execution_count": null,
   "id": "ec3869ed-9b17-43ed-a72e-93325d28c319",
   "metadata": {},
   "outputs": [],
   "source": [
    "# Compute the correlation matrix\n",
    "correlation_matrix = data_cleaned.corr()\n",
    "\n",
    "# Plot the heatmap\n",
    "plt.figure(figsize=(10,8))\n",
    "sns.heatmap(correlation_matrix, annot=True, cmap='coolwarm', fmt='.2f')\n",
    "plt.title('Correlation Matrix')\n",
    "plt.show()\n",
    "\n",
    "# Check the correlation of free sulfur dioxide with quality\n",
    "correlation_value = correlation_matrix['quality']['free sulfur dioxide']\n",
    "print(f\"Correlation between Free Sulfur Dioxide and Quality: {correlation_value:.2f}\")"
   ]
  },
  {
   "cell_type": "markdown",
   "id": "cc060bab-87b0-4ae6-854d-124125e662c7",
   "metadata": {},
   "source": [
    "Based on the analysis, alcohol emerged as the most influential feature in predicting wine quality, showing a moderate positive correlation (0.46). This suggests that higher alcohol content is generally associated with better wine quality. In contrast, while free sulfur dioxide showed a negligible correlation (0.01) with quality, its prominence during feature engineering indicates that it may have a non-linear impact on quality."
   ]
  },
  {
   "cell_type": "markdown",
   "id": "ec79f35f-7497-4bea-a7ee-f57d0a517c81",
   "metadata": {},
   "source": [
    "### ***Model Comparison***"
   ]
  },
  {
   "cell_type": "markdown",
   "id": "f720fdc1-d5bf-405f-8fb0-e171ba30ef2e",
   "metadata": {},
   "source": [
    "|Model|Accuracy|Precision|Recall|F1-Score|Training Time|Comments|\n",
    "|-----|--------|---------|------|--------|-------------|--------|\n",
    "|Random Forest|86.33%|85.73%|86.33%|85.88%|1.03 sec|Good balance of accuracy and speed|\n",
    "|SVM|76.32%|75.12%|76.32%|75.26%|0.36 sec|May take longer with large datasets|\n",
    "|Gradient Boosting|77.83%|77.13%|77.83%|77.35%|9.97 sec|Strong performance, prone to overfitting|\n",
    "|Decision Tree|77.61%|76.60%|77.61%|76.99%|0.05 sec|Simple and interpretable, but prone to overfitting.|"
   ]
  }
 ],
 "metadata": {
  "kernelspec": {
   "display_name": "Python 3 (ipykernel)",
   "language": "python",
   "name": "python3"
  },
  "language_info": {
   "codemirror_mode": {
    "name": "ipython",
    "version": 3
   },
   "file_extension": ".py",
   "mimetype": "text/x-python",
   "name": "python",
   "nbconvert_exporter": "python",
   "pygments_lexer": "ipython3",
   "version": "3.10.4"
  }
 },
 "nbformat": 4,
 "nbformat_minor": 5
}

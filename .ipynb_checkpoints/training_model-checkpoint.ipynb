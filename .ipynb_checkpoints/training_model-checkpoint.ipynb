{
 "cells": [
  {
   "cell_type": "markdown",
   "id": "913fe890-4921-43fb-941a-585615f7ef82",
   "metadata": {},
   "source": [
    "# ***Wine Quality Prediction using ML***"
   ]
  },
  {
   "cell_type": "markdown",
   "id": "9799e906-3171-42db-a6b6-e8b0e2a0d558",
   "metadata": {},
   "source": [
    "https://archive.ics.uci.edu/dataset/186/wine+quality"
   ]
  },
  {
   "cell_type": "markdown",
   "id": "8ad00107-bb7e-4f6c-a961-8fbb86014b21",
   "metadata": {},
   "source": [
    "***"
   ]
  },
  {
   "cell_type": "markdown",
   "id": "fd860ff5-4e20-4d13-9140-f28dd78be034",
   "metadata": {},
   "source": [
    "- Dataset Characteristics: multivariate\n",
    "- Subject Area: Business \n",
    "- Total instances: 4898\n",
    "- Features: 11"
   ]
  },
  {
   "cell_type": "markdown",
   "id": "fac698ff-cc69-4efb-89d2-b2ec86177a09",
   "metadata": {},
   "source": [
    "**Input variables (based on physicochemical tests):**\n",
    "1. fixed acidity\n",
    "2. volatile acidity\n",
    "3. citric acid\n",
    "4. residual sugar\n",
    "5. chlorides\n",
    "6. free sulfur dioxide\n",
    "7. total sulphur dioxide\n",
    "8. density\n",
    "9. pH\n",
    "10. sulphates\n",
    "11. alcohol\n",
    "\n",
    "**Output variable (based on sensory data):**\n",
    "\n",
    "12. quality (Score between 0 and 10)   "
   ]
  },
  {
   "cell_type": "markdown",
   "id": "834e4e09-81fc-46b0-89d0-80b1b67c349b",
   "metadata": {},
   "source": [
    "### ***Problem Statement***\n",
    "Wine quality is a key factor influencing consumer satisfaction and market value. However, assessing wine quality typically requires expert tasters, which is both time-consuming and expensive.\n",
    "\n",
    "This project aims to build a machine learning model that predicts the quality of wine based on its physicochemical properties such as acidity, pH, alcohol content, and sugar levels. Using classification algorithms, the goal is to accurately classify wines on a quality scale (e.g., 0 to 10).\n",
    "\n",
    "The model’s predictions can help winemakers optimize production processes, ensure quality consistency, and make data-driven decisions without solely relying on manual testing."
   ]
  },
  {
   "cell_type": "code",
   "execution_count": null,
   "id": "5c4c9fc5-8c4d-46f7-8c2e-b3d89b1236f4",
   "metadata": {},
   "outputs": [],
   "source": [
    "# Importing necessary libraries\n",
    "import joblib\n",
    "import pandas as pd\n",
    "import numpy as np\n",
    "import seaborn as sns\n",
    "import matplotlib.pyplot as plt\n",
    "from scipy import stats\n",
    "from imblearn.over_sampling import SMOTE\n",
    "from collections import Counter\n",
    "from xgboost import XGBRegressor\n",
    "from sklearn.preprocessing import StandardScaler, label_binarize\n",
    "from sklearn.model_selection import train_test_split, RandomizedSearchCV\n",
    "from sklearn.metrics import mean_squared_error, mean_absolute_error, r2_score"
   ]
  },
  {
   "cell_type": "code",
   "execution_count": null,
   "id": "62c0eeec-3c41-4af7-9e45-14bc605a4270",
   "metadata": {},
   "outputs": [],
   "source": [
    "# Integrating the Dataset to the notebook\n",
    "file_path= \"Dataset.csv\"\n",
    "data = pd.read_csv(file_path)"
   ]
  },
  {
   "cell_type": "code",
   "execution_count": null,
   "id": "a98cdb68-e7f3-4d2d-979e-5d66cb2ae2f9",
   "metadata": {},
   "outputs": [],
   "source": [
    "# Removing Duplicates\n",
    "data_cleaned = data.drop_duplicates()"
   ]
  },
  {
   "cell_type": "code",
   "execution_count": null,
   "id": "ff820ba0-8108-4784-a805-74a06f309c98",
   "metadata": {},
   "outputs": [],
   "source": [
    "# Separate features and target\n",
    "X = data_cleaned.drop(columns=['quality'])\n",
    "y = data_cleaned['quality']"
   ]
  },
  {
   "cell_type": "code",
   "execution_count": null,
   "id": "f84caf17-d7ce-4048-b0e6-9c26fb1df9a6",
   "metadata": {},
   "outputs": [],
   "source": [
    "# Splitting the data into Testing and Training\n",
    "X_train, X_test, y_train, y_test = train_test_split(X,y,test_size=0.2, random_state=42, stratify=y)"
   ]
  },
  {
   "cell_type": "markdown",
   "id": "d3977718-85c0-4a41-b42e-f693c41213c8",
   "metadata": {},
   "source": [
    "### ***Data Preprocessing***\n",
    "1. Checking for null values\n",
    "2. Standardising the values\n",
    "3. Checking for outliers and removing them using Z-score\n",
    "4. Checking for class imbalance and balance them using SMOTE analysis"
   ]
  },
  {
   "cell_type": "code",
   "execution_count": null,
   "id": "db8f58e4-c5e0-451e-927e-eafcadda1270",
   "metadata": {},
   "outputs": [],
   "source": [
    "# Check for missing values in each column\n",
    "print(data_cleaned.isnull().sum())"
   ]
  },
  {
   "cell_type": "code",
   "execution_count": null,
   "id": "2365e72a-d4ed-4223-845c-092fd5d02970",
   "metadata": {},
   "outputs": [],
   "source": [
    "# Scaling the Features\n",
    "scaler = StandardScaler()\n",
    "X_train_scaled = scaler.fit_transform(X_train)\n",
    "X_test_scaled = scaler.transform(X_test)\n",
    "\n",
    "# Checking for Standardized values\n",
    "print(\"Mean (After Scaling):\", X_train_scaled.mean(axis=0))\n",
    "print(\"Std (After Scaling):\", X_train_scaled.std(axis=0))"
   ]
  },
  {
   "cell_type": "code",
   "execution_count": null,
   "id": "607bf0a0-d4a7-4f37-9d00-b92951af0d4e",
   "metadata": {},
   "outputs": [],
   "source": [
    "# Converting scaled data to DataFrame\n",
    "X_train_scaled_df = pd.DataFrame(X_train_scaled, columns=X_train.columns)\n",
    "\n",
    "# Checking for outliers\n",
    "plt.figure(figsize=(12, 8))\n",
    "sns.boxplot(data=X_train_scaled_df)\n",
    "plt.xticks(rotation=90)\n",
    "plt.title('Box Plot to Detect Outliers')\n",
    "plt.show()"
   ]
  },
  {
   "cell_type": "code",
   "execution_count": null,
   "id": "a9a32042-71f0-4f22-b4bd-2af3919ffa59",
   "metadata": {},
   "outputs": [],
   "source": [
    "# Removing outliers using Z-Score\n",
    "z_scores = np.abs(stats.zscore(X_train_scaled_df))\n",
    "mask = ((z_scores < 3).all(axis=1))\n",
    "X_train_filtered = X_train_scaled_df[mask]\n",
    "y_train_filtered = y_train[mask]\n",
    "\n",
    "# Converting filtered data to Data Frame\n",
    "X_train_filtered_df = pd.DataFrame(X_train_filtered, columns=X_train_scaled_df.columns)\n",
    "\n",
    "# Plot after removing outliers\n",
    "plt.figure(figsize=(12, 6))\n",
    "sns.boxplot(data=X_train_filtered_df)\n",
    "plt.title('Boxplot of Scaled Features')\n",
    "plt.xticks(rotation=90)\n",
    "plt.show()\n",
    "\n",
    "# Checking for Standardized values after removing outliers\n",
    "print(\"Mean (After Scaling):\", X_train_filtered_df.mean(axis=0))\n",
    "print(\"Std (After Scaling):\", X_train_filtered_df.std(axis=0))"
   ]
  },
  {
   "cell_type": "code",
   "execution_count": null,
   "id": "6c3e4ed0-f05b-4672-831c-97c093d0af1c",
   "metadata": {},
   "outputs": [],
   "source": [
    "# Initial Class Distribution\n",
    "print(\"Class Counts Before SMOTE:\")\n",
    "print(y_train_filtered.value_counts())\n",
    "\n",
    "# Plotting the Class Distribution\n",
    "y_train_filtered.value_counts().plot(kind='bar', color=['blue','orange'])\n",
    "plt.title(\"Class Distribution\")\n",
    "plt.xlabel(\"Class\")\n",
    "plt.ylabel(\"Count\")\n",
    "plt.show()"
   ]
  },
  {
   "cell_type": "code",
   "execution_count": null,
   "id": "9a87ca42-3504-4010-9783-da574f0c19fd",
   "metadata": {
    "scrolled": true
   },
   "outputs": [],
   "source": [
    "# Applying SMOTE Analysis to balance the Dataset\n",
    "smote = SMOTE(sampling_strategy='auto', random_state=42, k_neighbors=3)\n",
    "X_train_resampled, y_train_resampled = smote.fit_resample(X_train_filtered_df, y_train_filtered)"
   ]
  },
  {
   "cell_type": "code",
   "execution_count": null,
   "id": "f10f59ab-5a9c-4750-a841-c021fc4ac7f7",
   "metadata": {},
   "outputs": [],
   "source": [
    "# Finalising the Class Distribution\n",
    "print(\"Class Counts After SMOTE:\")\n",
    "print(y_train_resampled.value_counts())\n",
    "\n",
    "# Plotting the Class Distribution\n",
    "y_train_resampled.value_counts().plot(kind='bar', color=['blue','orange'])\n",
    "plt.title(\"Class Distribution\")\n",
    "plt.xlabel(\"Class\")\n",
    "plt.ylabel(\"Count\")\n",
    "plt.show()"
   ]
  },
  {
   "cell_type": "markdown",
   "id": "6bca1ca0-c493-46da-ad99-7641390f636a",
   "metadata": {},
   "source": [
    "### ***Model Evaluation***\n",
    "1. Applying **XGB Regressor** on pre-processed data\n",
    "2. Evaluating through R2 Score, MAE, MSE"
   ]
  },
  {
   "cell_type": "code",
   "execution_count": null,
   "id": "d9c768bd-1624-4af7-b3fa-5f0578795e87",
   "metadata": {},
   "outputs": [],
   "source": [
    "# Re-Splitting the Data after SMOTE\n",
    "X_train, X_test, y_train, y_test = train_test_split(X_train_resampled, y_train_resampled, test_size=0.2, random_state=42)"
   ]
  },
  {
   "cell_type": "code",
   "execution_count": null,
   "id": "56e97937-05fd-45f0-a011-5905719a385c",
   "metadata": {},
   "outputs": [],
   "source": [
    "# Using XG Boosting Model to predict the Wine quality\n",
    "xgb_model = XGBRegressor(random_state=42)\n",
    "\n",
    "# Definining Paramters\n",
    "param_dist = {\n",
    "    'n_estimators': [100, 300, 500, 700, 1000],\n",
    "    'learning_rate': [0.01, 0.05, 0.1, 0.2],\n",
    "    'max_depth': [3, 5, 7, 9],\n",
    "    'min_child_weight': [1, 3, 5, 7],\n",
    "    'gamma': [0, 0.1, 0.2, 0.3],\n",
    "    'subsample': [0.6, 0.8, 1.0],\n",
    "    'colsample_bytree': [0.6, 0.8, 1.0],\n",
    "    'reg_alpha': [0, 0.01, 0.1, 1, 10],\n",
    "    'reg_lambda': [1, 10, 50, 100]\n",
    "}\n",
    "\n",
    "# Hyperparameter tuning using Randomized Search\n",
    "random_search = RandomizedSearchCV(estimator=xgb_model, param_distributions=param_dist,\n",
    "                                    n_iter=50,\n",
    "                                    cv=5,\n",
    "                                    verbose=2,\n",
    "                                    n_jobs=-1,\n",
    "                                    scoring='r2',\n",
    "                                    random_state=42)\n",
    "\n",
    "random_search.fit(X_train, y_train)\n",
    "\n",
    "print(\"Best Parameters:\", random_search.best_params_)\n",
    "\n",
    "best_xgb_model = random_search.best_estimator_\n",
    "y_pred_xgb = best_xgb_model.predict(X_test)\n",
    "\n",
    "# Evaluating the model\n",
    "print(\"R2 Score for XGBoost Model:\", r2_score(y_test, y_pred_xgb))\n",
    "print(\"Mean Absolute Error (MAE):\", mean_absolute_error(y_test, y_pred_xgb))\n",
    "print(\"Mean Squared Error (MSE):\", mean_squared_error(y_test, y_pred_xgb))"
   ]
  },
  {
   "cell_type": "markdown",
   "id": "72a39db3-32f3-47f5-a633-607860f4dc02",
   "metadata": {},
   "source": [
    "### ***Feature Engineering***"
   ]
  },
  {
   "cell_type": "code",
   "execution_count": null,
   "id": "2b2aaeaa-7ea4-4bac-a804-33a7982dcbb3",
   "metadata": {},
   "outputs": [],
   "source": [
    "# Getting feature importance\n",
    "feature_importance = best_xgb_model.feature_importances_\n",
    "\n",
    "# Converting feature importance to DataFrame\n",
    "feature_importance_df = pd.DataFrame({'Feature': X_train.columns, 'Importance': feature_importance})\n",
    "feature_importance_df = feature_importance_df.sort_values(by='Importance', ascending=False)\n",
    "\n",
    "print(feature_importance_df)"
   ]
  },
  {
   "cell_type": "code",
   "execution_count": null,
   "id": "f0ec8886-386d-4baf-b6ef-90453f1a5c5f",
   "metadata": {},
   "outputs": [],
   "source": [
    "# Plotting feature importance\n",
    "plt.figure(figsize=(10, 6))\n",
    "sns.barplot(x='Importance', y='Feature', data=feature_importance_df)\n",
    "plt.title('Feature Importance from Random Forest')\n",
    "plt.xlabel('Importance Score')\n",
    "plt.ylabel('Features')\n",
    "plt.show()"
   ]
  },
  {
   "cell_type": "code",
   "execution_count": null,
   "id": "ec3869ed-9b17-43ed-a72e-93325d28c319",
   "metadata": {},
   "outputs": [],
   "source": [
    "# Compute the correlation matrix\n",
    "correlation_matrix = data_cleaned.corr()\n",
    "\n",
    "# Plot the heatmap\n",
    "plt.figure(figsize=(10,8))\n",
    "sns.heatmap(correlation_matrix, annot=True, cmap='coolwarm', fmt='.2f')\n",
    "plt.title('Correlation Matrix')\n",
    "plt.show()\n",
    "\n",
    "# Check the correlation of free sulfur dioxide with quality\n",
    "correlation_value = correlation_matrix['quality']['alcohol']\n",
    "print(f\"Correlation between Alcohol and Quality: {correlation_value:.2f}\")"
   ]
  },
  {
   "cell_type": "markdown",
   "id": "cc060bab-87b0-4ae6-854d-124125e662c7",
   "metadata": {},
   "source": [
    "**Final Analysis of Feature Engineering**\n",
    "\n",
    "Feature engineering and correlation analysis indicate that **alcohol** content is the most influential factor in predicting wine quality, contributing **26.55%** to the model’s decision and showing a moderate positive correlation (0.46) with quality. Additionally, free sulfur dioxide (23.66%) and chlorides (11.32%) significantly impact the quality, with excessive levels negatively affecting taste. While volatile acidity and total sulfur dioxide demonstrate a moderate effect, their correlation with quality highlights the importance of maintaining balanced levels. This combined insight enables more accurate predictions, supporting informed decisions in wine production and quality management."
   ]
  },
  {
   "cell_type": "markdown",
   "id": "68f44cbc-0313-4523-a155-6010f5229f67",
   "metadata": {},
   "source": [
    "### ***Plot of Actual vs Predicted Value***"
   ]
  },
  {
   "cell_type": "code",
   "execution_count": null,
   "id": "be6717bc-46dc-42c4-b15f-c99c3376fe2b",
   "metadata": {},
   "outputs": [],
   "source": [
    "plt.figure(figsize=(8,6))\n",
    "sns.scatterplot(x=y_test, y=y_pred_xgb)\n",
    "plt.plot([min(y_test), max(y_test)], [min(y_test), max(y_test)], color='red', linestyle='--')\n",
    "plt.xlabel('Actual Quality')\n",
    "plt.ylabel('Predicted Quality')\n",
    "plt.title('Actual vs Predicted Wine Quality')\n",
    "plt.show()"
   ]
  },
  {
   "cell_type": "code",
   "execution_count": null,
   "id": "11b5a3a9-e3ad-44bc-a241-5b7b563192e3",
   "metadata": {},
   "outputs": [],
   "source": []
  },
  {
   "cell_type": "markdown",
   "id": "6c2e7912-42b7-4bbd-9770-d9f73c13d4b6",
   "metadata": {},
   "source": [
    "### ***Wine Quality Prediction - Model Comparison***\n",
    "\n",
    "| **Metric**                  | **Random Forest Regressor** | **Gradient Boosting Regressor** | **XGBoost Regressor** |\n",
    "|------------------------------|-----------------------------|---------------------------------|------------------------|\n",
    "| **R² Score**                  | 0.91                        | 0.92                            | **0.95**                |\n",
    "| **Mean Absolute Error (MAE)** | 0.35                        | 0.31                            | **0.27**                |\n",
    "| **Mean Squared Error (MSE)**  | 0.24                        | 0.21                            | **0.19**                |\n",
    "| **Training Time**             | Moderate                    | High                            | **Moderate to High**    |\n",
    "| **Interpretability**          | High                        | Moderate                        | Moderate                |\n",
    "| **Overfitting Risk**          | Moderate                    | Low to Moderate                 | **Low (with tuning)**   |\n",
    "| **Hyperparameter Sensitivity**| Moderate                    | High                            | **High**                |\n",
    "| **Best for Small Datasets**   | Yes                         | No                              | No                     |\n",
    "| **Best for Large Datasets**   | Moderate                    | Yes                             | **Yes**                 |"
   ]
  },
  {
   "cell_type": "markdown",
   "id": "38b53d90-ddfc-485b-94f9-80ba0ee5396a",
   "metadata": {},
   "source": [
    "### ***Saving the Model***"
   ]
  },
  {
   "cell_type": "code",
   "execution_count": 25,
   "id": "99c57391-8340-4fba-a32a-14a66784e982",
   "metadata": {},
   "outputs": [
    {
     "name": "stdout",
     "output_type": "stream",
     "text": [
      "Model saved as model.pkl\n",
      "Scaler saved as scaler.pkl\n"
     ]
    }
   ],
   "source": [
    "joblib.dump(best_xgb_model, 'model.pkl')\n",
    "print(\"Model saved as model.pkl\")\n",
    "\n",
    "joblib.dump(scaler, 'scaler.pkl')\n",
    "print(\"Scaler saved as scaler.pkl\")"
   ]
  },
  {
   "cell_type": "code",
   "execution_count": null,
   "id": "854d4a60-8d9b-4b55-8438-a5682a367891",
   "metadata": {},
   "outputs": [],
   "source": []
  },
  {
   "cell_type": "code",
   "execution_count": null,
   "id": "b0c6a5fa-4227-4037-ab75-59f73b65071b",
   "metadata": {},
   "outputs": [],
   "source": []
  },
  {
   "cell_type": "markdown",
   "id": "19af1576-7438-471e-9f2b-0d4cadd359b1",
   "metadata": {},
   "source": [
    "### ***Predicting the Sample Input***"
   ]
  },
  {
   "cell_type": "code",
   "execution_count": null,
   "id": "bf918b24-f085-4ca8-b19b-b9b1af01be23",
   "metadata": {},
   "outputs": [
    {
     "name": "stdout",
     "output_type": "stream",
     "text": [
      "[CV] END colsample_bytree=0.8, gamma=0.2, learning_rate=0.05, max_depth=5, min_child_weight=5, n_estimators=500, reg_alpha=1, reg_lambda=1, subsample=1.0; total time=   0.2s\n",
      "[CV] END colsample_bytree=0.8, gamma=0.2, learning_rate=0.2, max_depth=5, min_child_weight=7, n_estimators=700, reg_alpha=10, reg_lambda=10, subsample=0.8; total time=   0.2s\n",
      "[CV] END colsample_bytree=0.8, gamma=0.1, learning_rate=0.05, max_depth=7, min_child_weight=3, n_estimators=700, reg_alpha=0.01, reg_lambda=1, subsample=1.0; total time=   0.3s\n",
      "[CV] END colsample_bytree=0.8, gamma=0.1, learning_rate=0.1, max_depth=9, min_child_weight=7, n_estimators=500, reg_alpha=10, reg_lambda=1, subsample=0.6; total time=   0.4s\n",
      "[CV] END colsample_bytree=0.8, gamma=0.1, learning_rate=0.1, max_depth=9, min_child_weight=7, n_estimators=500, reg_alpha=10, reg_lambda=1, subsample=0.6; total time=   0.4s\n",
      "[CV] END colsample_bytree=0.6, gamma=0.2, learning_rate=0.2, max_depth=5, min_child_weight=5, n_estimators=1000, reg_alpha=1, reg_lambda=100, subsample=0.8; total time=   0.3s\n",
      "[CV] END colsample_bytree=0.8, gamma=0.3, learning_rate=0.01, max_depth=7, min_child_weight=3, n_estimators=700, reg_alpha=10, reg_lambda=100, subsample=0.6; total time=   0.9s\n",
      "[CV] END colsample_bytree=1.0, gamma=0, learning_rate=0.2, max_depth=3, min_child_weight=1, n_estimators=1000, reg_alpha=0.1, reg_lambda=1, subsample=1.0; total time=   0.3s\n",
      "[CV] END colsample_bytree=0.8, gamma=0.1, learning_rate=0.2, max_depth=5, min_child_weight=7, n_estimators=700, reg_alpha=1, reg_lambda=100, subsample=1.0; total time=   0.2s\n",
      "[CV] END colsample_bytree=1.0, gamma=0.1, learning_rate=0.2, max_depth=9, min_child_weight=3, n_estimators=700, reg_alpha=10, reg_lambda=50, subsample=0.8; total time=   0.3s\n",
      "[CV] END colsample_bytree=0.6, gamma=0.2, learning_rate=0.01, max_depth=7, min_child_weight=1, n_estimators=1000, reg_alpha=10, reg_lambda=1, subsample=1.0; total time=   0.8s\n",
      "[CV] END colsample_bytree=0.6, gamma=0.3, learning_rate=0.01, max_depth=5, min_child_weight=7, n_estimators=100, reg_alpha=0.1, reg_lambda=100, subsample=1.0; total time=   0.1s\n",
      "[CV] END colsample_bytree=0.6, gamma=0.3, learning_rate=0.01, max_depth=5, min_child_weight=7, n_estimators=100, reg_alpha=0.1, reg_lambda=100, subsample=1.0; total time=   0.1s\n",
      "[CV] END colsample_bytree=1.0, gamma=0.2, learning_rate=0.01, max_depth=5, min_child_weight=5, n_estimators=700, reg_alpha=1, reg_lambda=100, subsample=1.0; total time=   0.5s\n",
      "[CV] END colsample_bytree=1.0, gamma=0.2, learning_rate=0.05, max_depth=5, min_child_weight=7, n_estimators=500, reg_alpha=0.01, reg_lambda=100, subsample=0.6; total time=   0.4s\n",
      "[CV] END colsample_bytree=1.0, gamma=0.3, learning_rate=0.01, max_depth=7, min_child_weight=3, n_estimators=1000, reg_alpha=1, reg_lambda=1, subsample=0.6; total time=   1.7s\n",
      "[CV] END colsample_bytree=0.8, gamma=0, learning_rate=0.05, max_depth=9, min_child_weight=1, n_estimators=300, reg_alpha=1, reg_lambda=100, subsample=0.6; total time=   1.1s\n",
      "[CV] END colsample_bytree=1.0, gamma=0.2, learning_rate=0.1, max_depth=5, min_child_weight=1, n_estimators=700, reg_alpha=0.1, reg_lambda=1, subsample=0.6; total time=   0.4s\n",
      "[CV] END colsample_bytree=0.8, gamma=0.2, learning_rate=0.2, max_depth=3, min_child_weight=7, n_estimators=300, reg_alpha=10, reg_lambda=1, subsample=0.6; total time=   0.1s\n",
      "[CV] END colsample_bytree=1.0, gamma=0, learning_rate=0.01, max_depth=7, min_child_weight=5, n_estimators=500, reg_alpha=0, reg_lambda=100, subsample=0.8; total time=   0.9s\n",
      "[CV] END colsample_bytree=0.8, gamma=0.2, learning_rate=0.05, max_depth=7, min_child_weight=1, n_estimators=500, reg_alpha=0.01, reg_lambda=10, subsample=1.0; total time=   0.3s\n",
      "[CV] END colsample_bytree=0.8, gamma=0.2, learning_rate=0.2, max_depth=3, min_child_weight=7, n_estimators=100, reg_alpha=0.01, reg_lambda=100, subsample=1.0; total time=   0.0s\n",
      "[CV] END colsample_bytree=0.8, gamma=0.2, learning_rate=0.2, max_depth=3, min_child_weight=7, n_estimators=100, reg_alpha=0.01, reg_lambda=100, subsample=1.0; total time=   0.0s\n",
      "[CV] END colsample_bytree=0.6, gamma=0, learning_rate=0.01, max_depth=7, min_child_weight=3, n_estimators=100, reg_alpha=1, reg_lambda=100, subsample=1.0; total time=   0.1s\n",
      "[CV] END colsample_bytree=0.8, gamma=0.2, learning_rate=0.05, max_depth=9, min_child_weight=1, n_estimators=1000, reg_alpha=0.01, reg_lambda=10, subsample=0.6; total time=   0.8s\n",
      "[CV] END colsample_bytree=1.0, gamma=0, learning_rate=0.1, max_depth=9, min_child_weight=1, n_estimators=100, reg_alpha=1, reg_lambda=100, subsample=0.6; total time=   0.5s\n",
      "[CV] END colsample_bytree=0.6, gamma=0.3, learning_rate=0.1, max_depth=3, min_child_weight=1, n_estimators=700, reg_alpha=10, reg_lambda=50, subsample=0.8; total time=   0.2s\n",
      "[CV] END colsample_bytree=0.6, gamma=0.3, learning_rate=0.1, max_depth=3, min_child_weight=1, n_estimators=700, reg_alpha=10, reg_lambda=50, subsample=0.8; total time=   0.2s\n",
      "[CV] END colsample_bytree=0.6, gamma=0.2, learning_rate=0.2, max_depth=9, min_child_weight=3, n_estimators=700, reg_alpha=0, reg_lambda=50, subsample=0.6; total time=   0.4s\n",
      "[CV] END colsample_bytree=0.6, gamma=0.2, learning_rate=0.2, max_depth=9, min_child_weight=3, n_estimators=700, reg_alpha=0, reg_lambda=50, subsample=0.6; total time=   0.4s\n",
      "[CV] END colsample_bytree=0.6, gamma=0.3, learning_rate=0.05, max_depth=9, min_child_weight=5, n_estimators=700, reg_alpha=0.01, reg_lambda=100, subsample=1.0; total time=   0.5s\n",
      "[CV] END colsample_bytree=0.8, gamma=0.2, learning_rate=0.05, max_depth=5, min_child_weight=5, n_estimators=500, reg_alpha=1, reg_lambda=1, subsample=1.0; total time=   0.2s\n",
      "[CV] END colsample_bytree=0.8, gamma=0.2, learning_rate=0.2, max_depth=5, min_child_weight=7, n_estimators=700, reg_alpha=10, reg_lambda=10, subsample=0.8; total time=   0.2s\n",
      "[CV] END colsample_bytree=0.8, gamma=0.1, learning_rate=0.05, max_depth=7, min_child_weight=3, n_estimators=700, reg_alpha=0.01, reg_lambda=1, subsample=1.0; total time=   0.3s\n",
      "[CV] END colsample_bytree=0.8, gamma=0.1, learning_rate=0.1, max_depth=9, min_child_weight=7, n_estimators=500, reg_alpha=10, reg_lambda=1, subsample=0.6; total time=   0.4s\n",
      "[CV] END colsample_bytree=0.8, gamma=0.1, learning_rate=0.1, max_depth=9, min_child_weight=7, n_estimators=500, reg_alpha=10, reg_lambda=1, subsample=0.6; total time=   0.3s\n",
      "[CV] END colsample_bytree=0.6, gamma=0.2, learning_rate=0.2, max_depth=5, min_child_weight=5, n_estimators=1000, reg_alpha=1, reg_lambda=100, subsample=0.8; total time=   0.3s\n",
      "[CV] END colsample_bytree=0.8, gamma=0.3, learning_rate=0.01, max_depth=7, min_child_weight=3, n_estimators=700, reg_alpha=10, reg_lambda=100, subsample=0.6; total time=   0.9s\n",
      "[CV] END colsample_bytree=0.8, gamma=0, learning_rate=0.1, max_depth=3, min_child_weight=7, n_estimators=700, reg_alpha=0.01, reg_lambda=50, subsample=0.6; total time=   0.2s\n",
      "[CV] END colsample_bytree=0.8, gamma=0.1, learning_rate=0.2, max_depth=5, min_child_weight=7, n_estimators=700, reg_alpha=1, reg_lambda=100, subsample=1.0; total time=   0.2s\n",
      "[CV] END colsample_bytree=1.0, gamma=0.1, learning_rate=0.01, max_depth=7, min_child_weight=1, n_estimators=100, reg_alpha=0, reg_lambda=10, subsample=0.6; total time=   0.2s\n",
      "[CV] END colsample_bytree=0.6, gamma=0, learning_rate=0.2, max_depth=5, min_child_weight=3, n_estimators=500, reg_alpha=0, reg_lambda=10, subsample=0.6; total time=   0.3s\n",
      "[CV] END colsample_bytree=0.6, gamma=0.2, learning_rate=0.01, max_depth=7, min_child_weight=1, n_estimators=1000, reg_alpha=10, reg_lambda=1, subsample=1.0; total time=   0.8s\n",
      "[CV] END colsample_bytree=1.0, gamma=0.2, learning_rate=0.01, max_depth=5, min_child_weight=5, n_estimators=700, reg_alpha=1, reg_lambda=100, subsample=1.0; total time=   0.5s\n",
      "[CV] END colsample_bytree=0.6, gamma=0, learning_rate=0.05, max_depth=3, min_child_weight=3, n_estimators=700, reg_alpha=0.1, reg_lambda=50, subsample=0.8; total time=   0.2s\n",
      "[CV] END colsample_bytree=0.6, gamma=0, learning_rate=0.05, max_depth=3, min_child_weight=3, n_estimators=700, reg_alpha=0.1, reg_lambda=50, subsample=0.8; total time=   0.2s\n",
      "[CV] END colsample_bytree=0.8, gamma=0.1, learning_rate=0.05, max_depth=7, min_child_weight=1, n_estimators=500, reg_alpha=0.1, reg_lambda=100, subsample=1.0; total time=   0.6s\n",
      "[CV] END colsample_bytree=1.0, gamma=0.1, learning_rate=0.1, max_depth=5, min_child_weight=7, n_estimators=1000, reg_alpha=1, reg_lambda=10, subsample=0.6; total time=   0.7s\n",
      "[CV] END colsample_bytree=1.0, gamma=0.1, learning_rate=0.1, max_depth=5, min_child_weight=7, n_estimators=1000, reg_alpha=1, reg_lambda=10, subsample=0.6; total time=   0.7s\n",
      "[CV] END colsample_bytree=0.8, gamma=0, learning_rate=0.05, max_depth=9, min_child_weight=1, n_estimators=300, reg_alpha=1, reg_lambda=100, subsample=0.6; total time=   1.1s\n",
      "[CV] END colsample_bytree=1.0, gamma=0.3, learning_rate=0.1, max_depth=7, min_child_weight=5, n_estimators=1000, reg_alpha=10, reg_lambda=1, subsample=0.6; total time=   0.4s\n",
      "[CV] END colsample_bytree=1.0, gamma=0, learning_rate=0.01, max_depth=7, min_child_weight=5, n_estimators=500, reg_alpha=0, reg_lambda=100, subsample=0.8; total time=   0.8s\n",
      "[CV] END colsample_bytree=0.8, gamma=0.2, learning_rate=0.05, max_depth=7, min_child_weight=1, n_estimators=500, reg_alpha=0.01, reg_lambda=10, subsample=1.0; total time=   0.3s\n",
      "[CV] END colsample_bytree=0.8, gamma=0.3, learning_rate=0.2, max_depth=3, min_child_weight=5, n_estimators=300, reg_alpha=1, reg_lambda=50, subsample=0.8; total time=   0.1s\n",
      "[CV] END colsample_bytree=0.6, gamma=0, learning_rate=0.01, max_depth=7, min_child_weight=3, n_estimators=100, reg_alpha=1, reg_lambda=100, subsample=1.0; total time=   0.1s\n",
      "[CV] END colsample_bytree=0.8, gamma=0.2, learning_rate=0.05, max_depth=9, min_child_weight=1, n_estimators=1000, reg_alpha=0.01, reg_lambda=10, subsample=0.6; total time=   0.7s\n",
      "[CV] END colsample_bytree=0.8, gamma=0, learning_rate=0.05, max_depth=7, min_child_weight=5, n_estimators=100, reg_alpha=10, reg_lambda=50, subsample=0.6; total time=   0.1s\n",
      "[CV] END colsample_bytree=1.0, gamma=0, learning_rate=0.1, max_depth=9, min_child_weight=1, n_estimators=100, reg_alpha=1, reg_lambda=100, subsample=0.6; total time=   0.5s\n",
      "[CV] END colsample_bytree=0.6, gamma=0.3, learning_rate=0.1, max_depth=3, min_child_weight=1, n_estimators=700, reg_alpha=10, reg_lambda=50, subsample=0.8; total time=   0.2s\n",
      "[CV] END colsample_bytree=0.6, gamma=0.3, learning_rate=0.1, max_depth=3, min_child_weight=1, n_estimators=700, reg_alpha=10, reg_lambda=50, subsample=0.8; total time=   0.2s\n",
      "[CV] END colsample_bytree=0.6, gamma=0.2, learning_rate=0.2, max_depth=9, min_child_weight=3, n_estimators=700, reg_alpha=0, reg_lambda=50, subsample=0.6; total time=   0.4s\n",
      "[CV] END colsample_bytree=0.6, gamma=0.3, learning_rate=0.05, max_depth=9, min_child_weight=5, n_estimators=700, reg_alpha=0.01, reg_lambda=100, subsample=1.0; total time=   0.5s\n",
      "[CV] END colsample_bytree=0.6, gamma=0.3, learning_rate=0.05, max_depth=9, min_child_weight=5, n_estimators=700, reg_alpha=0.01, reg_lambda=100, subsample=1.0; total time=   0.5s\n",
      "[CV] END colsample_bytree=0.8, gamma=0.3, learning_rate=0.1, max_depth=7, min_child_weight=3, n_estimators=500, reg_alpha=1, reg_lambda=100, subsample=1.0; total time=   0.2s\n",
      "[CV] END colsample_bytree=0.8, gamma=0.2, learning_rate=0.2, max_depth=5, min_child_weight=7, n_estimators=700, reg_alpha=10, reg_lambda=10, subsample=0.8; total time=   0.2s\n",
      "[CV] END colsample_bytree=0.8, gamma=0.1, learning_rate=0.05, max_depth=7, min_child_weight=3, n_estimators=700, reg_alpha=0.01, reg_lambda=1, subsample=1.0; total time=   0.3s\n",
      "[CV] END colsample_bytree=0.8, gamma=0.1, learning_rate=0.1, max_depth=9, min_child_weight=7, n_estimators=500, reg_alpha=10, reg_lambda=1, subsample=0.6; total time=   0.4s\n",
      "[CV] END colsample_bytree=1.0, gamma=0.2, learning_rate=0.2, max_depth=5, min_child_weight=1, n_estimators=1000, reg_alpha=10, reg_lambda=10, subsample=0.8; total time=   0.3s\n",
      "[CV] END colsample_bytree=1.0, gamma=0.2, learning_rate=0.2, max_depth=5, min_child_weight=1, n_estimators=1000, reg_alpha=10, reg_lambda=10, subsample=0.8; total time=   0.2s\n",
      "[CV] END colsample_bytree=0.8, gamma=0.3, learning_rate=0.01, max_depth=7, min_child_weight=3, n_estimators=700, reg_alpha=10, reg_lambda=100, subsample=0.6; total time=   0.8s\n",
      "[CV] END colsample_bytree=1.0, gamma=0, learning_rate=0.2, max_depth=3, min_child_weight=1, n_estimators=1000, reg_alpha=0.1, reg_lambda=1, subsample=1.0; total time=   0.3s\n",
      "[CV] END colsample_bytree=0.8, gamma=0, learning_rate=0.1, max_depth=3, min_child_weight=7, n_estimators=700, reg_alpha=0.01, reg_lambda=50, subsample=0.6; total time=   0.2s\n",
      "[CV] END colsample_bytree=0.8, gamma=0.2, learning_rate=0.1, max_depth=5, min_child_weight=3, n_estimators=100, reg_alpha=0.1, reg_lambda=1, subsample=0.6; total time=   0.1s\n",
      "[CV] END colsample_bytree=1.0, gamma=0.1, learning_rate=0.2, max_depth=9, min_child_weight=3, n_estimators=700, reg_alpha=10, reg_lambda=50, subsample=0.8; total time=   0.4s\n",
      "[CV] END colsample_bytree=0.6, gamma=0, learning_rate=0.2, max_depth=5, min_child_weight=3, n_estimators=500, reg_alpha=0, reg_lambda=10, subsample=0.6; total time=   0.3s\n",
      "[CV] END colsample_bytree=0.6, gamma=0.3, learning_rate=0.1, max_depth=3, min_child_weight=1, n_estimators=100, reg_alpha=0.01, reg_lambda=100, subsample=0.6; total time=   0.0s\n",
      "[CV] END colsample_bytree=0.6, gamma=0.3, learning_rate=0.05, max_depth=7, min_child_weight=1, n_estimators=100, reg_alpha=0.01, reg_lambda=50, subsample=1.0; total time=   0.1s\n",
      "[CV] END colsample_bytree=0.6, gamma=0, learning_rate=0.01, max_depth=3, min_child_weight=5, n_estimators=500, reg_alpha=10, reg_lambda=1, subsample=0.8; total time=   0.2s\n",
      "[CV] END colsample_bytree=0.6, gamma=0, learning_rate=0.01, max_depth=3, min_child_weight=5, n_estimators=500, reg_alpha=10, reg_lambda=1, subsample=0.8; total time=   0.2s\n",
      "[CV] END colsample_bytree=0.6, gamma=0.3, learning_rate=0.01, max_depth=5, min_child_weight=7, n_estimators=100, reg_alpha=0.1, reg_lambda=100, subsample=1.0; total time=   0.1s\n",
      "[CV] END colsample_bytree=1.0, gamma=0.2, learning_rate=0.01, max_depth=5, min_child_weight=5, n_estimators=700, reg_alpha=1, reg_lambda=100, subsample=1.0; total time=   0.6s\n",
      "[CV] END colsample_bytree=0.6, gamma=0, learning_rate=0.05, max_depth=3, min_child_weight=3, n_estimators=700, reg_alpha=0.1, reg_lambda=50, subsample=0.8; total time=   0.2s\n",
      "[CV] END colsample_bytree=0.8, gamma=0.1, learning_rate=0.05, max_depth=7, min_child_weight=1, n_estimators=500, reg_alpha=0.1, reg_lambda=100, subsample=1.0; total time=   0.5s\n",
      "[CV] END colsample_bytree=1.0, gamma=0.3, learning_rate=0.01, max_depth=7, min_child_weight=3, n_estimators=1000, reg_alpha=1, reg_lambda=1, subsample=0.6; total time=   1.6s\n",
      "[CV] END colsample_bytree=1.0, gamma=0, learning_rate=0.05, max_depth=5, min_child_weight=1, n_estimators=500, reg_alpha=1, reg_lambda=100, subsample=0.6; total time=   0.5s\n",
      "[CV] END colsample_bytree=1.0, gamma=0.2, learning_rate=0.1, max_depth=5, min_child_weight=1, n_estimators=700, reg_alpha=0.1, reg_lambda=1, subsample=0.6; total time=   0.4s\n",
      "[CV] END colsample_bytree=1.0, gamma=0.3, learning_rate=0.1, max_depth=7, min_child_weight=5, n_estimators=1000, reg_alpha=10, reg_lambda=1, subsample=0.6; total time=   0.4s\n",
      "[CV] END colsample_bytree=1.0, gamma=0, learning_rate=0.01, max_depth=7, min_child_weight=5, n_estimators=500, reg_alpha=0, reg_lambda=100, subsample=0.8; total time=   0.9s\n",
      "[CV] END colsample_bytree=0.8, gamma=0.2, learning_rate=0.05, max_depth=7, min_child_weight=1, n_estimators=500, reg_alpha=0.01, reg_lambda=10, subsample=1.0; total time=   0.3s\n",
      "[CV] END colsample_bytree=0.8, gamma=0.3, learning_rate=0.2, max_depth=3, min_child_weight=5, n_estimators=300, reg_alpha=1, reg_lambda=50, subsample=0.8; total time=   0.1s\n",
      "[CV] END colsample_bytree=0.6, gamma=0, learning_rate=0.01, max_depth=7, min_child_weight=3, n_estimators=100, reg_alpha=1, reg_lambda=100, subsample=1.0; total time=   0.1s\n",
      "[CV] END colsample_bytree=0.8, gamma=0.2, learning_rate=0.05, max_depth=9, min_child_weight=1, n_estimators=1000, reg_alpha=0.01, reg_lambda=10, subsample=0.6; total time=   0.7s\n",
      "[CV] END colsample_bytree=0.8, gamma=0, learning_rate=0.05, max_depth=7, min_child_weight=5, n_estimators=100, reg_alpha=10, reg_lambda=50, subsample=0.6; total time=   0.2s\n",
      "[CV] END colsample_bytree=0.8, gamma=0.2, learning_rate=0.01, max_depth=9, min_child_weight=3, n_estimators=1000, reg_alpha=0, reg_lambda=50, subsample=0.6; total time=   2.3s\n",
      "[CV] END colsample_bytree=0.8, gamma=0.2, learning_rate=0.05, max_depth=5, min_child_weight=5, n_estimators=500, reg_alpha=1, reg_lambda=1, subsample=1.0; total time=   0.2s\n",
      "[CV] END colsample_bytree=0.8, gamma=0.3, learning_rate=0.1, max_depth=7, min_child_weight=3, n_estimators=500, reg_alpha=1, reg_lambda=100, subsample=1.0; total time=   0.2s\n",
      "[CV] END colsample_bytree=0.8, gamma=0.1, learning_rate=0.05, max_depth=7, min_child_weight=3, n_estimators=700, reg_alpha=0.01, reg_lambda=1, subsample=1.0; total time=   0.3s\n",
      "[CV] END colsample_bytree=0.8, gamma=0.2, learning_rate=0.01, max_depth=9, min_child_weight=7, n_estimators=500, reg_alpha=10, reg_lambda=100, subsample=1.0; total time=   0.9s\n",
      "[CV] END colsample_bytree=0.6, gamma=0.2, learning_rate=0.2, max_depth=5, min_child_weight=5, n_estimators=1000, reg_alpha=1, reg_lambda=100, subsample=0.8; total time=   0.3s\n",
      "[CV] END colsample_bytree=1.0, gamma=0.3, learning_rate=0.01, max_depth=5, min_child_weight=7, n_estimators=500, reg_alpha=1, reg_lambda=1, subsample=1.0; total time=   0.4s\n",
      "[CV] END colsample_bytree=1.0, gamma=0.3, learning_rate=0.01, max_depth=5, min_child_weight=7, n_estimators=500, reg_alpha=1, reg_lambda=1, subsample=1.0; total time=   0.4s\n",
      "[CV] END colsample_bytree=0.8, gamma=0, learning_rate=0.1, max_depth=3, min_child_weight=7, n_estimators=700, reg_alpha=0.01, reg_lambda=50, subsample=0.6; total time=   0.2s\n",
      "[CV] END colsample_bytree=0.8, gamma=0.2, learning_rate=0.1, max_depth=5, min_child_weight=3, n_estimators=100, reg_alpha=0.1, reg_lambda=1, subsample=0.6; total time=   0.1s\n",
      "[CV] END colsample_bytree=1.0, gamma=0.1, learning_rate=0.01, max_depth=7, min_child_weight=1, n_estimators=100, reg_alpha=0, reg_lambda=10, subsample=0.6; total time=   0.2s\n",
      "[CV] END colsample_bytree=1.0, gamma=0.1, learning_rate=0.2, max_depth=9, min_child_weight=3, n_estimators=700, reg_alpha=10, reg_lambda=50, subsample=0.8; total time=   0.3s\n",
      "[CV] END colsample_bytree=0.6, gamma=0.2, learning_rate=0.01, max_depth=7, min_child_weight=1, n_estimators=1000, reg_alpha=10, reg_lambda=1, subsample=1.0; total time=   0.8s\n",
      "[CV] END colsample_bytree=0.6, gamma=0.3, learning_rate=0.05, max_depth=7, min_child_weight=1, n_estimators=500, reg_alpha=0, reg_lambda=10, subsample=1.0; total time=   0.2s\n",
      "[CV] END colsample_bytree=0.6, gamma=0.3, learning_rate=0.05, max_depth=7, min_child_weight=1, n_estimators=500, reg_alpha=0, reg_lambda=10, subsample=1.0; total time=   0.2s\n",
      "[CV] END colsample_bytree=1.0, gamma=0.2, learning_rate=0.05, max_depth=5, min_child_weight=7, n_estimators=500, reg_alpha=0.01, reg_lambda=100, subsample=0.6; total time=   0.4s\n",
      "[CV] END colsample_bytree=0.8, gamma=0.1, learning_rate=0.05, max_depth=7, min_child_weight=1, n_estimators=500, reg_alpha=0.1, reg_lambda=100, subsample=1.0; total time=   0.6s\n",
      "[CV] END colsample_bytree=1.0, gamma=0.1, learning_rate=0.1, max_depth=5, min_child_weight=7, n_estimators=1000, reg_alpha=1, reg_lambda=10, subsample=0.6; total time=   0.7s\n",
      "[CV] END colsample_bytree=1.0, gamma=0.1, learning_rate=0.1, max_depth=5, min_child_weight=7, n_estimators=1000, reg_alpha=1, reg_lambda=10, subsample=0.6; total time=   0.7s\n",
      "[CV] END colsample_bytree=1.0, gamma=0, learning_rate=0.05, max_depth=5, min_child_weight=1, n_estimators=500, reg_alpha=1, reg_lambda=100, subsample=0.6; total time=   0.5s\n",
      "[CV] END colsample_bytree=1.0, gamma=0, learning_rate=0.05, max_depth=5, min_child_weight=1, n_estimators=500, reg_alpha=1, reg_lambda=100, subsample=0.6; total time=   0.6s\n",
      "[CV] END colsample_bytree=1.0, gamma=0.3, learning_rate=0.1, max_depth=7, min_child_weight=5, n_estimators=1000, reg_alpha=10, reg_lambda=1, subsample=0.6; total time=   0.4s\n",
      "[CV] END colsample_bytree=0.8, gamma=0, learning_rate=0.05, max_depth=7, min_child_weight=3, n_estimators=500, reg_alpha=10, reg_lambda=100, subsample=0.8; total time=   0.7s\n",
      "[CV] END colsample_bytree=0.8, gamma=0, learning_rate=0.05, max_depth=7, min_child_weight=3, n_estimators=500, reg_alpha=10, reg_lambda=100, subsample=0.8; total time=   0.7s\n",
      "[CV] END colsample_bytree=1.0, gamma=0.1, learning_rate=0.2, max_depth=7, min_child_weight=5, n_estimators=100, reg_alpha=0.01, reg_lambda=100, subsample=0.8; total time=   0.2s\n",
      "[CV] END colsample_bytree=1.0, gamma=0.1, learning_rate=0.2, max_depth=7, min_child_weight=5, n_estimators=100, reg_alpha=0.01, reg_lambda=100, subsample=0.8; total time=   0.2s\n",
      "[CV] END colsample_bytree=0.6, gamma=0.3, learning_rate=0.05, max_depth=7, min_child_weight=7, n_estimators=100, reg_alpha=0.1, reg_lambda=1, subsample=0.8; total time=   0.2s\n",
      "[CV] END colsample_bytree=0.8, gamma=0.2, learning_rate=0.2, max_depth=3, min_child_weight=3, n_estimators=300, reg_alpha=0.01, reg_lambda=100, subsample=0.6; total time=   0.1s\n",
      "[CV] END colsample_bytree=0.8, gamma=0, learning_rate=0.05, max_depth=7, min_child_weight=5, n_estimators=100, reg_alpha=10, reg_lambda=50, subsample=0.6; total time=   0.1s\n",
      "[CV] END colsample_bytree=1.0, gamma=0, learning_rate=0.1, max_depth=9, min_child_weight=1, n_estimators=100, reg_alpha=1, reg_lambda=100, subsample=0.6; total time=   0.5s\n",
      "[CV] END colsample_bytree=0.6, gamma=0.3, learning_rate=0.1, max_depth=3, min_child_weight=1, n_estimators=700, reg_alpha=10, reg_lambda=50, subsample=0.8; total time=   0.2s\n",
      "[CV] END colsample_bytree=0.6, gamma=0.2, learning_rate=0.2, max_depth=9, min_child_weight=3, n_estimators=700, reg_alpha=0, reg_lambda=50, subsample=0.6; total time=   0.3s\n",
      "[CV] END colsample_bytree=0.6, gamma=0.2, learning_rate=0.2, max_depth=9, min_child_weight=3, n_estimators=700, reg_alpha=0, reg_lambda=50, subsample=0.6; total time=   0.4s\n",
      "[CV] END colsample_bytree=0.6, gamma=0.3, learning_rate=0.05, max_depth=9, min_child_weight=5, n_estimators=700, reg_alpha=0.01, reg_lambda=100, subsample=1.0; total time=   0.4s\n",
      "[CV] END colsample_bytree=0.6, gamma=0.3, learning_rate=0.05, max_depth=9, min_child_weight=5, n_estimators=700, reg_alpha=0.01, reg_lambda=100, subsample=1.0; total time=   0.5s\n",
      "[CV] END colsample_bytree=0.8, gamma=0.2, learning_rate=0.05, max_depth=5, min_child_weight=5, n_estimators=500, reg_alpha=1, reg_lambda=1, subsample=1.0; total time=   0.2s\n",
      "[CV] END colsample_bytree=0.8, gamma=0.2, learning_rate=0.2, max_depth=5, min_child_weight=7, n_estimators=700, reg_alpha=10, reg_lambda=10, subsample=0.8; total time=   0.2s\n",
      "[CV] END colsample_bytree=0.8, gamma=0.2, learning_rate=0.01, max_depth=9, min_child_weight=7, n_estimators=500, reg_alpha=10, reg_lambda=100, subsample=1.0; total time=   0.9s\n",
      "[CV] END colsample_bytree=1.0, gamma=0.2, learning_rate=0.2, max_depth=5, min_child_weight=1, n_estimators=1000, reg_alpha=10, reg_lambda=10, subsample=0.8; total time=   0.3s\n",
      "[CV] END colsample_bytree=0.8, gamma=0.3, learning_rate=0.01, max_depth=7, min_child_weight=3, n_estimators=700, reg_alpha=10, reg_lambda=100, subsample=0.6; total time=   0.8s\n",
      "[CV] END colsample_bytree=1.0, gamma=0, learning_rate=0.2, max_depth=3, min_child_weight=1, n_estimators=1000, reg_alpha=0.1, reg_lambda=1, subsample=1.0; total time=   0.3s\n",
      "[CV] END colsample_bytree=0.8, gamma=0.1, learning_rate=0.2, max_depth=5, min_child_weight=7, n_estimators=700, reg_alpha=1, reg_lambda=100, subsample=1.0; total time=   0.2s\n",
      "[CV] END colsample_bytree=0.8, gamma=0.2, learning_rate=0.1, max_depth=5, min_child_weight=3, n_estimators=100, reg_alpha=0.1, reg_lambda=1, subsample=0.6; total time=   0.1s\n",
      "[CV] END colsample_bytree=1.0, gamma=0.1, learning_rate=0.01, max_depth=7, min_child_weight=1, n_estimators=100, reg_alpha=0, reg_lambda=10, subsample=0.6; total time=   0.2s\n",
      "[CV] END colsample_bytree=0.6, gamma=0, learning_rate=0.2, max_depth=5, min_child_weight=3, n_estimators=500, reg_alpha=0, reg_lambda=10, subsample=0.6; total time=   0.3s\n",
      "[CV] END colsample_bytree=0.6, gamma=0.2, learning_rate=0.01, max_depth=7, min_child_weight=1, n_estimators=1000, reg_alpha=10, reg_lambda=1, subsample=1.0; total time=   0.8s\n",
      "[CV] END colsample_bytree=0.6, gamma=0.3, learning_rate=0.05, max_depth=7, min_child_weight=1, n_estimators=500, reg_alpha=0, reg_lambda=10, subsample=1.0; total time=   0.2s\n",
      "[CV] END colsample_bytree=1.0, gamma=0.2, learning_rate=0.05, max_depth=5, min_child_weight=7, n_estimators=500, reg_alpha=0.01, reg_lambda=100, subsample=0.6; total time=   0.4s\n",
      "[CV] END colsample_bytree=0.6, gamma=0, learning_rate=0.05, max_depth=3, min_child_weight=3, n_estimators=700, reg_alpha=0.1, reg_lambda=50, subsample=0.8; total time=   0.2s\n",
      "[CV] END colsample_bytree=1.0, gamma=0.3, learning_rate=0.01, max_depth=7, min_child_weight=3, n_estimators=1000, reg_alpha=1, reg_lambda=1, subsample=0.6; total time=   1.6s\n",
      "[CV] END colsample_bytree=0.8, gamma=0, learning_rate=0.05, max_depth=9, min_child_weight=1, n_estimators=300, reg_alpha=1, reg_lambda=100, subsample=0.6; total time=   1.1s\n",
      "[CV] END colsample_bytree=1.0, gamma=0.2, learning_rate=0.1, max_depth=5, min_child_weight=1, n_estimators=700, reg_alpha=0.1, reg_lambda=1, subsample=0.6; total time=   0.4s\n",
      "[CV] END colsample_bytree=0.8, gamma=0.2, learning_rate=0.2, max_depth=3, min_child_weight=7, n_estimators=300, reg_alpha=10, reg_lambda=1, subsample=0.6; total time=   0.1s\n",
      "[CV] END colsample_bytree=1.0, gamma=0, learning_rate=0.01, max_depth=7, min_child_weight=5, n_estimators=500, reg_alpha=0, reg_lambda=100, subsample=0.8; total time=   0.8s\n",
      "[CV] END colsample_bytree=0.8, gamma=0, learning_rate=0.05, max_depth=7, min_child_weight=3, n_estimators=500, reg_alpha=10, reg_lambda=100, subsample=0.8; total time=   0.7s\n",
      "[CV] END colsample_bytree=1.0, gamma=0.1, learning_rate=0.2, max_depth=7, min_child_weight=5, n_estimators=100, reg_alpha=0.01, reg_lambda=100, subsample=0.8; total time=   0.2s\n",
      "[CV] END colsample_bytree=0.6, gamma=0.3, learning_rate=0.05, max_depth=7, min_child_weight=7, n_estimators=100, reg_alpha=0.1, reg_lambda=1, subsample=0.8; total time=   0.1s\n",
      "[CV] END colsample_bytree=0.6, gamma=0.3, learning_rate=0.05, max_depth=7, min_child_weight=7, n_estimators=100, reg_alpha=0.1, reg_lambda=1, subsample=0.8; total time=   0.1s\n",
      "[CV] END colsample_bytree=0.6, gamma=0.3, learning_rate=0.05, max_depth=7, min_child_weight=7, n_estimators=100, reg_alpha=0.1, reg_lambda=1, subsample=0.8; total time=   0.1s\n",
      "[CV] END colsample_bytree=0.8, gamma=0.2, learning_rate=0.2, max_depth=3, min_child_weight=3, n_estimators=300, reg_alpha=0.01, reg_lambda=100, subsample=0.6; total time=   0.1s\n",
      "[CV] END colsample_bytree=0.8, gamma=0, learning_rate=0.05, max_depth=7, min_child_weight=5, n_estimators=100, reg_alpha=10, reg_lambda=50, subsample=0.6; total time=   0.1s\n",
      "[CV] END colsample_bytree=0.8, gamma=0.2, learning_rate=0.01, max_depth=9, min_child_weight=3, n_estimators=1000, reg_alpha=0, reg_lambda=50, subsample=0.6; total time=   2.4s\n",
      "[CV] END colsample_bytree=0.8, gamma=0.3, learning_rate=0.1, max_depth=7, min_child_weight=3, n_estimators=500, reg_alpha=1, reg_lambda=100, subsample=1.0; total time=   0.2s\n",
      "[CV] END colsample_bytree=0.8, gamma=0.2, learning_rate=0.2, max_depth=5, min_child_weight=7, n_estimators=700, reg_alpha=10, reg_lambda=10, subsample=0.8; total time=   0.2s\n",
      "[CV] END colsample_bytree=0.8, gamma=0.2, learning_rate=0.01, max_depth=9, min_child_weight=7, n_estimators=500, reg_alpha=10, reg_lambda=100, subsample=1.0; total time=   0.9s\n",
      "[CV] END colsample_bytree=1.0, gamma=0.2, learning_rate=0.2, max_depth=5, min_child_weight=1, n_estimators=1000, reg_alpha=10, reg_lambda=10, subsample=0.8; total time=   0.3s\n",
      "[CV] END colsample_bytree=0.6, gamma=0.2, learning_rate=0.2, max_depth=5, min_child_weight=5, n_estimators=1000, reg_alpha=1, reg_lambda=100, subsample=0.8; total time=   0.3s\n",
      "[CV] END colsample_bytree=1.0, gamma=0.3, learning_rate=0.01, max_depth=5, min_child_weight=7, n_estimators=500, reg_alpha=1, reg_lambda=1, subsample=1.0; total time=   0.4s\n",
      "[CV] END colsample_bytree=1.0, gamma=0, learning_rate=0.2, max_depth=3, min_child_weight=1, n_estimators=1000, reg_alpha=0.1, reg_lambda=1, subsample=1.0; total time=   0.3s\n",
      "[CV] END colsample_bytree=0.8, gamma=0, learning_rate=0.1, max_depth=3, min_child_weight=7, n_estimators=700, reg_alpha=0.01, reg_lambda=50, subsample=0.6; total time=   0.2s\n",
      "[CV] END colsample_bytree=0.8, gamma=0.2, learning_rate=0.1, max_depth=5, min_child_weight=3, n_estimators=100, reg_alpha=0.1, reg_lambda=1, subsample=0.6; total time=   0.1s\n",
      "[CV] END colsample_bytree=1.0, gamma=0.1, learning_rate=0.01, max_depth=7, min_child_weight=1, n_estimators=100, reg_alpha=0, reg_lambda=10, subsample=0.6; total time=   0.3s\n",
      "[CV] END colsample_bytree=0.6, gamma=0, learning_rate=0.2, max_depth=5, min_child_weight=3, n_estimators=500, reg_alpha=0, reg_lambda=10, subsample=0.6; total time=   0.3s\n",
      "[CV] END colsample_bytree=0.6, gamma=0.2, learning_rate=0.01, max_depth=7, min_child_weight=1, n_estimators=1000, reg_alpha=10, reg_lambda=1, subsample=1.0; total time=   0.8s\n",
      "[CV] END colsample_bytree=0.6, gamma=0.3, learning_rate=0.05, max_depth=7, min_child_weight=1, n_estimators=500, reg_alpha=0, reg_lambda=10, subsample=1.0; total time=   0.2s\n",
      "[CV] END colsample_bytree=0.6, gamma=0.3, learning_rate=0.05, max_depth=7, min_child_weight=1, n_estimators=500, reg_alpha=0, reg_lambda=10, subsample=1.0; total time=   0.2s\n",
      "[CV] END colsample_bytree=1.0, gamma=0.2, learning_rate=0.05, max_depth=5, min_child_weight=7, n_estimators=500, reg_alpha=0.01, reg_lambda=100, subsample=0.6; total time=   0.4s\n",
      "[CV] END colsample_bytree=0.8, gamma=0.1, learning_rate=0.05, max_depth=7, min_child_weight=1, n_estimators=500, reg_alpha=0.1, reg_lambda=100, subsample=1.0; total time=   0.6s\n",
      "[CV] END colsample_bytree=1.0, gamma=0.1, learning_rate=0.1, max_depth=5, min_child_weight=7, n_estimators=1000, reg_alpha=1, reg_lambda=10, subsample=0.6; total time=   0.6s\n",
      "[CV] END colsample_bytree=0.8, gamma=0, learning_rate=0.05, max_depth=9, min_child_weight=1, n_estimators=300, reg_alpha=1, reg_lambda=100, subsample=0.6; total time=   1.1s\n",
      "[CV] END colsample_bytree=1.0, gamma=0, learning_rate=0.05, max_depth=5, min_child_weight=1, n_estimators=500, reg_alpha=1, reg_lambda=100, subsample=0.6; total time=   0.5s\n",
      "[CV] END colsample_bytree=1.0, gamma=0.3, learning_rate=0.1, max_depth=7, min_child_weight=5, n_estimators=1000, reg_alpha=10, reg_lambda=1, subsample=0.6; total time=   0.4s\n",
      "[CV] END colsample_bytree=0.8, gamma=0.2, learning_rate=0.2, max_depth=3, min_child_weight=7, n_estimators=300, reg_alpha=10, reg_lambda=1, subsample=0.6; total time=   0.1s\n",
      "[CV] END colsample_bytree=1.0, gamma=0, learning_rate=0.01, max_depth=7, min_child_weight=5, n_estimators=500, reg_alpha=0, reg_lambda=100, subsample=0.8; total time=   1.0s\n",
      "[CV] END colsample_bytree=0.8, gamma=0.3, learning_rate=0.2, max_depth=3, min_child_weight=5, n_estimators=300, reg_alpha=1, reg_lambda=50, subsample=0.8; total time=   0.1s\n",
      "[CV] END colsample_bytree=0.8, gamma=0.3, learning_rate=0.2, max_depth=3, min_child_weight=5, n_estimators=300, reg_alpha=1, reg_lambda=50, subsample=0.8; total time=   0.1s\n",
      "[CV] END colsample_bytree=0.8, gamma=0.2, learning_rate=0.2, max_depth=3, min_child_weight=7, n_estimators=100, reg_alpha=0.01, reg_lambda=100, subsample=1.0; total time=   0.0s\n",
      "[CV] END colsample_bytree=0.6, gamma=0, learning_rate=0.01, max_depth=7, min_child_weight=3, n_estimators=100, reg_alpha=1, reg_lambda=100, subsample=1.0; total time=   0.2s\n",
      "[CV] END colsample_bytree=1.0, gamma=0.1, learning_rate=0.2, max_depth=7, min_child_weight=5, n_estimators=100, reg_alpha=0.01, reg_lambda=100, subsample=0.8; total time=   0.2s\n",
      "[CV] END colsample_bytree=1.0, gamma=0.1, learning_rate=0.2, max_depth=7, min_child_weight=5, n_estimators=100, reg_alpha=0.01, reg_lambda=100, subsample=0.8; total time=   0.2s\n",
      "[CV] END colsample_bytree=0.6, gamma=0.3, learning_rate=0.05, max_depth=7, min_child_weight=7, n_estimators=100, reg_alpha=0.1, reg_lambda=1, subsample=0.8; total time=   0.2s\n",
      "[CV] END colsample_bytree=0.8, gamma=0.2, learning_rate=0.2, max_depth=3, min_child_weight=3, n_estimators=300, reg_alpha=0.01, reg_lambda=100, subsample=0.6; total time=   0.1s\n",
      "[CV] END colsample_bytree=0.8, gamma=0, learning_rate=0.05, max_depth=7, min_child_weight=5, n_estimators=100, reg_alpha=10, reg_lambda=50, subsample=0.6; total time=   0.2s\n",
      "[CV] END colsample_bytree=0.8, gamma=0.2, learning_rate=0.01, max_depth=9, min_child_weight=3, n_estimators=1000, reg_alpha=0, reg_lambda=50, subsample=0.6; total time=   2.3s\n",
      "[CV] END colsample_bytree=0.8, gamma=0.2, learning_rate=0.05, max_depth=5, min_child_weight=5, n_estimators=500, reg_alpha=1, reg_lambda=1, subsample=1.0; total time=   0.2s\n",
      "[CV] END colsample_bytree=0.8, gamma=0.3, learning_rate=0.1, max_depth=7, min_child_weight=3, n_estimators=500, reg_alpha=1, reg_lambda=100, subsample=1.0; total time=   0.2s\n",
      "[CV] END colsample_bytree=0.8, gamma=0.2, learning_rate=0.01, max_depth=9, min_child_weight=7, n_estimators=500, reg_alpha=10, reg_lambda=100, subsample=1.0; total time=   0.9s\n",
      "[CV] END colsample_bytree=1.0, gamma=0.2, learning_rate=0.2, max_depth=5, min_child_weight=1, n_estimators=1000, reg_alpha=10, reg_lambda=10, subsample=0.8; total time=   0.3s\n",
      "[CV] END colsample_bytree=0.8, gamma=0.3, learning_rate=0.01, max_depth=7, min_child_weight=3, n_estimators=700, reg_alpha=10, reg_lambda=100, subsample=0.6; total time=   0.9s\n",
      "[CV] END colsample_bytree=1.0, gamma=0, learning_rate=0.2, max_depth=3, min_child_weight=1, n_estimators=1000, reg_alpha=0.1, reg_lambda=1, subsample=1.0; total time=   0.3s\n",
      "[CV] END colsample_bytree=0.8, gamma=0.1, learning_rate=0.2, max_depth=5, min_child_weight=7, n_estimators=700, reg_alpha=1, reg_lambda=100, subsample=1.0; total time=   0.2s\n",
      "[CV] END colsample_bytree=1.0, gamma=0.1, learning_rate=0.01, max_depth=7, min_child_weight=1, n_estimators=100, reg_alpha=0, reg_lambda=10, subsample=0.6; total time=   0.2s\n",
      "[CV] END colsample_bytree=1.0, gamma=0.1, learning_rate=0.2, max_depth=9, min_child_weight=3, n_estimators=700, reg_alpha=10, reg_lambda=50, subsample=0.8; total time=   0.4s\n",
      "[CV] END colsample_bytree=0.6, gamma=0.3, learning_rate=0.1, max_depth=3, min_child_weight=1, n_estimators=100, reg_alpha=0.01, reg_lambda=100, subsample=0.6; total time=   0.0s\n",
      "[CV] END colsample_bytree=0.6, gamma=0.3, learning_rate=0.1, max_depth=3, min_child_weight=1, n_estimators=100, reg_alpha=0.01, reg_lambda=100, subsample=0.6; total time=   0.0s\n",
      "[CV] END colsample_bytree=0.6, gamma=0.3, learning_rate=0.1, max_depth=3, min_child_weight=1, n_estimators=100, reg_alpha=0.01, reg_lambda=100, subsample=0.6; total time=   0.0s\n",
      "[CV] END colsample_bytree=0.6, gamma=0.3, learning_rate=0.05, max_depth=7, min_child_weight=1, n_estimators=100, reg_alpha=0.01, reg_lambda=50, subsample=1.0; total time=   0.1s\n",
      "[CV] END colsample_bytree=0.6, gamma=0.3, learning_rate=0.05, max_depth=7, min_child_weight=1, n_estimators=100, reg_alpha=0.01, reg_lambda=50, subsample=1.0; total time=   0.1s\n",
      "[CV] END colsample_bytree=0.6, gamma=0, learning_rate=0.01, max_depth=3, min_child_weight=5, n_estimators=500, reg_alpha=10, reg_lambda=1, subsample=0.8; total time=   0.1s\n",
      "[CV] END colsample_bytree=0.6, gamma=0.3, learning_rate=0.01, max_depth=5, min_child_weight=7, n_estimators=100, reg_alpha=0.1, reg_lambda=100, subsample=1.0; total time=   0.1s\n",
      "[CV] END colsample_bytree=0.6, gamma=0.3, learning_rate=0.01, max_depth=5, min_child_weight=7, n_estimators=100, reg_alpha=0.1, reg_lambda=100, subsample=1.0; total time=   0.1s\n",
      "[CV] END colsample_bytree=1.0, gamma=0.2, learning_rate=0.01, max_depth=5, min_child_weight=5, n_estimators=700, reg_alpha=1, reg_lambda=100, subsample=1.0; total time=   0.5s\n",
      "[CV] END colsample_bytree=0.6, gamma=0, learning_rate=0.05, max_depth=3, min_child_weight=3, n_estimators=700, reg_alpha=0.1, reg_lambda=50, subsample=0.8; total time=   0.2s\n",
      "[CV] END colsample_bytree=0.8, gamma=0.1, learning_rate=0.05, max_depth=7, min_child_weight=1, n_estimators=500, reg_alpha=0.1, reg_lambda=100, subsample=1.0; total time=   0.6s\n",
      "[CV] END colsample_bytree=1.0, gamma=0.3, learning_rate=0.01, max_depth=7, min_child_weight=3, n_estimators=1000, reg_alpha=1, reg_lambda=1, subsample=0.6; total time=   1.7s\n",
      "[CV] END colsample_bytree=1.0, gamma=0, learning_rate=0.05, max_depth=5, min_child_weight=1, n_estimators=500, reg_alpha=1, reg_lambda=100, subsample=0.6; total time=   0.5s\n",
      "[CV] END colsample_bytree=1.0, gamma=0.2, learning_rate=0.1, max_depth=5, min_child_weight=1, n_estimators=700, reg_alpha=0.1, reg_lambda=1, subsample=0.6; total time=   0.5s\n",
      "[CV] END colsample_bytree=1.0, gamma=0.3, learning_rate=0.1, max_depth=7, min_child_weight=5, n_estimators=1000, reg_alpha=10, reg_lambda=1, subsample=0.6; total time=   0.4s\n",
      "[CV] END colsample_bytree=0.8, gamma=0, learning_rate=0.05, max_depth=7, min_child_weight=3, n_estimators=500, reg_alpha=10, reg_lambda=100, subsample=0.8; total time=   0.7s\n",
      "[CV] END colsample_bytree=0.8, gamma=0.2, learning_rate=0.05, max_depth=7, min_child_weight=1, n_estimators=500, reg_alpha=0.01, reg_lambda=10, subsample=1.0; total time=   0.3s\n",
      "[CV] END colsample_bytree=0.8, gamma=0.2, learning_rate=0.2, max_depth=3, min_child_weight=7, n_estimators=100, reg_alpha=0.01, reg_lambda=100, subsample=1.0; total time=   0.0s\n",
      "[CV] END colsample_bytree=0.8, gamma=0.2, learning_rate=0.2, max_depth=3, min_child_weight=7, n_estimators=100, reg_alpha=0.01, reg_lambda=100, subsample=1.0; total time=   0.0s\n",
      "[CV] END colsample_bytree=0.6, gamma=0, learning_rate=0.01, max_depth=7, min_child_weight=3, n_estimators=100, reg_alpha=1, reg_lambda=100, subsample=1.0; total time=   0.2s\n",
      "[CV] END colsample_bytree=0.8, gamma=0.2, learning_rate=0.05, max_depth=9, min_child_weight=1, n_estimators=1000, reg_alpha=0.01, reg_lambda=10, subsample=0.6; total time=   0.7s\n",
      "[CV] END colsample_bytree=0.8, gamma=0.2, learning_rate=0.2, max_depth=3, min_child_weight=3, n_estimators=300, reg_alpha=0.01, reg_lambda=100, subsample=0.6; total time=   0.1s\n",
      "[CV] END colsample_bytree=1.0, gamma=0, learning_rate=0.1, max_depth=9, min_child_weight=1, n_estimators=100, reg_alpha=1, reg_lambda=100, subsample=0.6; total time=   0.5s\n",
      "[CV] END colsample_bytree=0.8, gamma=0.2, learning_rate=0.01, max_depth=9, min_child_weight=3, n_estimators=1000, reg_alpha=0, reg_lambda=50, subsample=0.6; total time=   2.2s\n",
      "[CV] END colsample_bytree=0.8, gamma=0.3, learning_rate=0.1, max_depth=7, min_child_weight=3, n_estimators=500, reg_alpha=1, reg_lambda=100, subsample=1.0; total time=   0.2s\n",
      "[CV] END colsample_bytree=0.8, gamma=0.1, learning_rate=0.05, max_depth=7, min_child_weight=3, n_estimators=700, reg_alpha=0.01, reg_lambda=1, subsample=1.0; total time=   0.4s\n",
      "[CV] END colsample_bytree=0.8, gamma=0.2, learning_rate=0.01, max_depth=9, min_child_weight=7, n_estimators=500, reg_alpha=10, reg_lambda=100, subsample=1.0; total time=   0.9s\n",
      "[CV] END colsample_bytree=0.6, gamma=0.2, learning_rate=0.2, max_depth=5, min_child_weight=5, n_estimators=1000, reg_alpha=1, reg_lambda=100, subsample=0.8; total time=   0.3s\n",
      "[CV] END colsample_bytree=1.0, gamma=0.3, learning_rate=0.01, max_depth=5, min_child_weight=7, n_estimators=500, reg_alpha=1, reg_lambda=1, subsample=1.0; total time=   0.4s\n",
      "[CV] END colsample_bytree=1.0, gamma=0.3, learning_rate=0.01, max_depth=5, min_child_weight=7, n_estimators=500, reg_alpha=1, reg_lambda=1, subsample=1.0; total time=   0.3s\n",
      "[CV] END colsample_bytree=0.8, gamma=0, learning_rate=0.1, max_depth=3, min_child_weight=7, n_estimators=700, reg_alpha=0.01, reg_lambda=50, subsample=0.6; total time=   0.2s\n",
      "[CV] END colsample_bytree=0.8, gamma=0.1, learning_rate=0.2, max_depth=5, min_child_weight=7, n_estimators=700, reg_alpha=1, reg_lambda=100, subsample=1.0; total time=   0.2s\n",
      "[CV] END colsample_bytree=0.8, gamma=0.2, learning_rate=0.1, max_depth=5, min_child_weight=3, n_estimators=100, reg_alpha=0.1, reg_lambda=1, subsample=0.6; total time=   0.1s\n",
      "[CV] END colsample_bytree=1.0, gamma=0.1, learning_rate=0.2, max_depth=9, min_child_weight=3, n_estimators=700, reg_alpha=10, reg_lambda=50, subsample=0.8; total time=   0.3s\n",
      "[CV] END colsample_bytree=0.6, gamma=0, learning_rate=0.2, max_depth=5, min_child_weight=3, n_estimators=500, reg_alpha=0, reg_lambda=10, subsample=0.6; total time=   0.3s\n",
      "[CV] END colsample_bytree=0.6, gamma=0.3, learning_rate=0.1, max_depth=3, min_child_weight=1, n_estimators=100, reg_alpha=0.01, reg_lambda=100, subsample=0.6; total time=   0.0s\n",
      "[CV] END colsample_bytree=0.6, gamma=0.3, learning_rate=0.05, max_depth=7, min_child_weight=1, n_estimators=100, reg_alpha=0.01, reg_lambda=50, subsample=1.0; total time=   0.1s\n",
      "[CV] END colsample_bytree=0.6, gamma=0.3, learning_rate=0.05, max_depth=7, min_child_weight=1, n_estimators=100, reg_alpha=0.01, reg_lambda=50, subsample=1.0; total time=   0.1s\n",
      "[CV] END colsample_bytree=0.6, gamma=0, learning_rate=0.01, max_depth=3, min_child_weight=5, n_estimators=500, reg_alpha=10, reg_lambda=1, subsample=0.8; total time=   0.1s\n",
      "[CV] END colsample_bytree=0.6, gamma=0, learning_rate=0.01, max_depth=3, min_child_weight=5, n_estimators=500, reg_alpha=10, reg_lambda=1, subsample=0.8; total time=   0.2s\n",
      "[CV] END colsample_bytree=1.0, gamma=0.2, learning_rate=0.01, max_depth=5, min_child_weight=5, n_estimators=700, reg_alpha=1, reg_lambda=100, subsample=1.0; total time=   0.5s\n",
      "[CV] END colsample_bytree=1.0, gamma=0.2, learning_rate=0.05, max_depth=5, min_child_weight=7, n_estimators=500, reg_alpha=0.01, reg_lambda=100, subsample=0.6; total time=   0.4s\n",
      "[CV] END colsample_bytree=1.0, gamma=0.3, learning_rate=0.01, max_depth=7, min_child_weight=3, n_estimators=1000, reg_alpha=1, reg_lambda=1, subsample=0.6; total time=   1.6s\n",
      "[CV] END colsample_bytree=0.8, gamma=0, learning_rate=0.05, max_depth=9, min_child_weight=1, n_estimators=300, reg_alpha=1, reg_lambda=100, subsample=0.6; total time=   1.1s\n",
      "[CV] END colsample_bytree=1.0, gamma=0.2, learning_rate=0.1, max_depth=5, min_child_weight=1, n_estimators=700, reg_alpha=0.1, reg_lambda=1, subsample=0.6; total time=   0.4s\n",
      "[CV] END colsample_bytree=0.8, gamma=0.2, learning_rate=0.2, max_depth=3, min_child_weight=7, n_estimators=300, reg_alpha=10, reg_lambda=1, subsample=0.6; total time=   0.1s\n",
      "[CV] END colsample_bytree=0.8, gamma=0.2, learning_rate=0.2, max_depth=3, min_child_weight=7, n_estimators=300, reg_alpha=10, reg_lambda=1, subsample=0.6; total time=   0.1s\n",
      "[CV] END colsample_bytree=0.8, gamma=0, learning_rate=0.05, max_depth=7, min_child_weight=3, n_estimators=500, reg_alpha=10, reg_lambda=100, subsample=0.8; total time=   0.7s\n",
      "[CV] END colsample_bytree=0.8, gamma=0.2, learning_rate=0.05, max_depth=7, min_child_weight=1, n_estimators=500, reg_alpha=0.01, reg_lambda=10, subsample=1.0; total time=   0.3s\n",
      "[CV] END colsample_bytree=0.8, gamma=0.3, learning_rate=0.2, max_depth=3, min_child_weight=5, n_estimators=300, reg_alpha=1, reg_lambda=50, subsample=0.8; total time=   0.1s\n",
      "[CV] END colsample_bytree=0.8, gamma=0.2, learning_rate=0.05, max_depth=9, min_child_weight=1, n_estimators=1000, reg_alpha=0.01, reg_lambda=10, subsample=0.6; total time=   0.8s\n",
      "[CV] END colsample_bytree=0.8, gamma=0.2, learning_rate=0.2, max_depth=3, min_child_weight=3, n_estimators=300, reg_alpha=0.01, reg_lambda=100, subsample=0.6; total time=   0.1s\n",
      "[CV] END colsample_bytree=1.0, gamma=0, learning_rate=0.1, max_depth=9, min_child_weight=1, n_estimators=100, reg_alpha=1, reg_lambda=100, subsample=0.6; total time=   0.5s\n",
      "[CV] END colsample_bytree=0.8, gamma=0.2, learning_rate=0.01, max_depth=9, min_child_weight=3, n_estimators=1000, reg_alpha=0, reg_lambda=50, subsample=0.6; total time=   2.3s\n"
     ]
    }
   ],
   "source": [
    "sample_input = [[7.0, 0.25, 0.5, 4.0, 0.02, 25.0, 150.0, 0.994, 3.4, 0.65, 15]]\n",
    "sample_input_scaled = scaler.transform(sample_input)\n",
    "prediction = best_xgb_model.predict(sample_input_scaled)\n",
    "print(\"Predicted Quality:\", prediction[0])"
   ]
  }
 ],
 "metadata": {
  "kernelspec": {
   "display_name": "Python 3 (ipykernel)",
   "language": "python",
   "name": "python3"
  },
  "language_info": {
   "codemirror_mode": {
    "name": "ipython",
    "version": 3
   },
   "file_extension": ".py",
   "mimetype": "text/x-python",
   "name": "python",
   "nbconvert_exporter": "python",
   "pygments_lexer": "ipython3",
   "version": "3.10.4"
  }
 },
 "nbformat": 4,
 "nbformat_minor": 5
}
